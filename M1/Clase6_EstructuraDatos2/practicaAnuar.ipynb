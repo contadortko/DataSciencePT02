{
 "cells": [
  {
   "attachments": {},
   "cell_type": "markdown",
   "metadata": {},
   "source": [
    "Lista enlazada simple"
   ]
  },
  {
   "cell_type": "code",
   "execution_count": 17,
   "metadata": {},
   "outputs": [],
   "source": [
    "class Node:\n",
    "    def __init__(self, data):\n",
    "        self.data = data\n",
    "        self.ref = None\n",
    "\n",
    "class LinkedList:\n",
    "    def __init__(self):\n",
    "        #iniciar la cabeza de la lista\n",
    "        self.head = None\n",
    "\n",
    "    def is_empty(self):\n",
    "        if self.head == None:\n",
    "            print(\"La lista está vacía\")\n",
    "            return True\n",
    "        else:\n",
    "            print(\"La lista contiene nodos\")\n",
    "            return False\n",
    "    \n",
    "    def print_list(self):\n",
    "        empty = self.is_empty()\n",
    "        if empty:\n",
    "            print(\"La lista está vacía\")\n",
    "        else:\n",
    "            n = self.head\n",
    "            while n is not None:\n",
    "                print(n.data, \"-->\", end=\" \")\n",
    "                n = n.ref\n",
    "    \n",
    "    #Agregar un elemento al inicio de la lista\n",
    "    def add_inicio(self, data):\n",
    "        #crear el nodo\n",
    "        new_node = Node(data)\n",
    "        #cambiar la referencia del nuevo nodo a la cabeza o head\n",
    "        new_node.ref = self.head\n",
    "        #guardar la referencia del nuevo nodo en la cabeza   \n",
    "        self.head = new_node"
   ]
  },
  {
   "cell_type": "code",
   "execution_count": 11,
   "metadata": {},
   "outputs": [
    {
     "data": {
      "text/plain": [
       "10"
      ]
     },
     "execution_count": 11,
     "metadata": {},
     "output_type": "execute_result"
    }
   ],
   "source": [
    "nodo1 = Node(10)\n",
    "nodo1.data"
   ]
  },
  {
   "cell_type": "code",
   "execution_count": 12,
   "metadata": {},
   "outputs": [],
   "source": [
    "lista1 = LinkedList()"
   ]
  },
  {
   "cell_type": "code",
   "execution_count": 13,
   "metadata": {},
   "outputs": [],
   "source": [
    "lista1.add_inicio(10)\n"
   ]
  },
  {
   "cell_type": "code",
   "execution_count": 15,
   "metadata": {},
   "outputs": [
    {
     "name": "stdout",
     "output_type": "stream",
     "text": [
      "La lista contiene nodos\n",
      "10\n"
     ]
    }
   ],
   "source": [
    "lista1.print_list()"
   ]
  },
  {
   "cell_type": "code",
   "execution_count": 19,
   "metadata": {},
   "outputs": [
    {
     "name": "stdout",
     "output_type": "stream",
     "text": [
      "La lista contiene nodos\n",
      "60\n",
      "50\n",
      "40\n",
      "30\n",
      "20\n",
      "60\n",
      "50\n",
      "40\n",
      "30\n",
      "20\n",
      "60\n",
      "50\n",
      "40\n",
      "30\n",
      "20\n",
      "10\n"
     ]
    }
   ],
   "source": [
    "lista1.add_inicio(20)\n",
    "lista1.add_inicio(30)\n",
    "lista1.add_inicio(40)\n",
    "lista1.add_inicio(50)\n",
    "lista1.add_inicio(60)\n",
    "lista1.print_list()"
   ]
  },
  {
   "cell_type": "code",
   "execution_count": 21,
   "metadata": {},
   "outputs": [],
   "source": [
    "lista2 = LinkedList()"
   ]
  },
  {
   "cell_type": "code",
   "execution_count": 23,
   "metadata": {},
   "outputs": [
    {
     "name": "stdout",
     "output_type": "stream",
     "text": [
      "La lista contiene nodos\n",
      "50 --> 40 --> 30 --> 20 --> 50 --> 40 --> 30 --> 20 --> "
     ]
    }
   ],
   "source": [
    "lista2.add_inicio(20)\n",
    "lista2.add_inicio(30)\n",
    "lista2.add_inicio(40)\n",
    "lista2.add_inicio(50)\n",
    "lista2.print_list()"
   ]
  }
 ],
 "metadata": {
  "kernelspec": {
   "display_name": "Python 3",
   "language": "python",
   "name": "python3"
  },
  "language_info": {
   "codemirror_mode": {
    "name": "ipython",
    "version": 3
   },
   "file_extension": ".py",
   "mimetype": "text/x-python",
   "name": "python",
   "nbconvert_exporter": "python",
   "pygments_lexer": "ipython3",
   "version": "3.10.6"
  },
  "orig_nbformat": 4,
  "vscode": {
   "interpreter": {
    "hash": "916dbcbb3f70747c44a77c7bcd40155683ae19c65e1c03b4aa3499c5328201f1"
   }
  }
 },
 "nbformat": 4,
 "nbformat_minor": 2
}
