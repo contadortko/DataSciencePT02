{
 "cells": [
  {
   "cell_type": "code",
   "execution_count": 2,
   "metadata": {},
   "outputs": [],
   "source": [
    "# Definimos la clase Node para representar los nodos del árbol binario\n",
    "class Node:\n",
    "    def __init__(self, valor):\n",
    "        # Inicializamos los atributos left, right y value del nodo\n",
    "        self.left = None\n",
    "        self.right = None\n",
    "        self.valor = valor\n",
    "\n",
    "# Creamos los seis nodos que forman el árbol binario y establecemos las referencias entre ellos\n",
    "root = Node(6) # Nodo raíz con valor 6\n",
    "node1 = Node(4) # Nodo hijo de la izquierda de la raíz con valor 4\n",
    "node2 = Node(1) # Nodo hijo de la izquierda del nodo1 con valor 1\n",
    "node3 = Node(5) # Nodo hijo de la derecha del nodo1 con valor 5\n",
    "node4 = Node(8) # Nodo hijo de la derecha de la raíz con valor 8\n",
    "node5 = Node(9) # Nodo hijo de la derecha del nodo4 con valor 9\n",
    "\n",
    "root.left = node1 # Establecemos la referencia del hijo izquierdo de la raíz al nodo1\n",
    "root.right = node4 # Establecemos la referencia del hijo derecho de la raíz al nodo4\n",
    "node1.left = node2 # Establecemos la referencia del hijo izquierdo del nodo1 al nodo2\n",
    "node1.right = node3 # Establecemos la referencia del hijo derecho del nodo1 al nodo3\n",
    "node4.right = node5 # Establecemos la referencia del hijo derecho del nodo4 al nodo5\n",
    "\n",
    "# Definimos la función in_order para recorrer el árbol en orden\n",
    "def in_order(node):\n",
    "    # Si el nodo es nulo (None), no hacemos nada\n",
    "    if node == None:\n",
    "        return;\n",
    "    else:\n",
    "        # Recorremos el subárbol izquierdo del nodo\n",
    "        in_order(node.left)\n",
    "        # Mostramos el valor del nodo\n",
    "        print(f\"El valor del nodo en orden es\",node.valor)\n",
    "        # Recorremos el subárbol derecho del nodo\n",
    "        in_order(node.right)\n",
    "\n",
    "def pre_order(node):\n",
    "    if node == None:\n",
    "        return;\n",
    "    else:\n",
    "        print(\"El valor del nodo en pre orden es\", node.valor)\n",
    "        pre_order(node.left)\n",
    "        pre_order(node.right)\n",
    "\n",
    "def post_order(node):\n",
    "    if node == None:\n",
    "        return;\n",
    "    else:\n",
    "        post_order(node.left)\n",
    "        post_order(node.right)\n",
    "        print(\"El valor del nodo en post orden es\", node.valor)\n",
    "\n",
    "#Insertar un Nodo en un arbol de busqueda binaria\n",
    "def insertar(node, valor):\n",
    "    if node == None:\n",
    "        return Node(valor)\n",
    "    else:\n",
    "        #si el arbol no está vacío, se busca el lugar adecuado para el nuevo nodo\n",
    "        if valor < node.valor:\n",
    "            #si el valor es menor que la raíz, se inserta en el subárbol izquierdo\n",
    "            node.left = insertar(node.left, valor)\n",
    "        \n",
    "        else:\n",
    "            #Si el valor es igual o mayor a la raíz se inserta en el subárbol derecho\n",
    "            node.right = insertar(node.right, valor)\n",
    "    return node\n",
    "\n",
    "\"\"\"Eliminar un Nodo en un arbol de busqueda binaria\"\"\"\n",
    "\"\"\"Paso.1 Buscar el Nodo a eliminar\"\"\"\n",
    "\"\"\"Paso.2 Buscar el sucesor del nodo si este tiene hijos, in_order\"\"\"\n",
    "\"\"\"Paso.3 Si el nodo tiene solo hijo ese será su sucesor\"\"\"\n",
    "\"\"\"Paso.4 Si el nodo no tiene hijos, simplemente se elimina\"\"\"\n",
    "\n",
    "#Definimos una función para encontrar el sucesor de un nodo dado\n",
    "def encontrar_sucesor(node): #se utiliza dentro de la función eliminar\n",
    "    sucesor = node.right #el sucesor es el hijo derecho del nodo\n",
    "    while sucesor.left != None: #si hay un hijo izquierdo el sucesor lo recorremos hasta encontrar el último nodo\n",
    "        sucesor = sucesor.left\n",
    "    return sucesor #Devolvemos el nodo encontrado, que es el sucesor del nodo inicial\n",
    "\n",
    "#Definimos la función eliminar\n",
    "def eliminar(node, valor):\n",
    "    #Si el nodo es nulo no hay nada que eliminar, así que simplemente devolvemos None\n",
    "    if node == None:\n",
    "        return None\n",
    "\n",
    "    #si el valor a eliminar es menor que el valor actual, eliminamos en el subárbol izquierdo\n",
    "    if valor < node.valor:\n",
    "        node.left = eliminar(node.left, valor)\n",
    "    #de lo contario si el valor a eliminar es mayor que el valor actual, eliminamos en el subárbol derecho\n",
    "    elif valor > node.valor:\n",
    "        node.right = eliminar(node.right, valor)\n",
    "    else:\n",
    "        #Si el nodo a eliminar no tiene hijos simplemente lo eliminamos\n",
    "        if node.left == None and node.right == None:\n",
    "            node = None\n",
    "        #Si el nodo a eliminar tiene un hijo derecho, lo reemplazamos por el hijo derecho\n",
    "        elif node.left == None:\n",
    "            node = node.right\n",
    "        #Si el nodo a eliminar tiene un hijo izquierdo, lo reemplazamos por el izquierdo\n",
    "        elif node.right == None:\n",
    "            node = node.left\n",
    "        #Si el nodo a eliminar tiene dos hijos, buscamos el sucesor y lo reemplazamos por el nodo a eliminar\n",
    "        else:\n",
    "            sucesor = encontrar_sucesor(node) #Encontramos el sucesor del nodo a eliminar\n",
    "            node.valor = sucesor.valor # Reemplazamos el valor del nodo a eliminar por el valor del sucesor\n",
    "            node.right = eliminar(node.right, sucesor.valor) # Eliminamos el sucesor del subárbol derecho\n",
    "    return node # Devolvemos el nodo actualizado (o el nodo nulo si se eliminó)\n",
    "\n",
    "def buscar(self,buscado):\n",
    "    if buscado < self.dato:\n",
    "        if self.izquierda == None:\n",
    "            return False\n",
    "        else:\n",
    "            self.izquierda.buscar(buscado)\n",
    "    elif buscado > self.dato:\n",
    "        if self.derecha == None:\n",
    "            return False\n",
    "        else:\n",
    "            self.derecha.buscar(buscado)\n",
    "    else:\n",
    "        return True    \n"
   ]
  },
  {
   "cell_type": "code",
   "execution_count": 3,
   "metadata": {},
   "outputs": [
    {
     "name": "stdout",
     "output_type": "stream",
     "text": [
      "El valor del nodo en orden es 1\n",
      "El valor del nodo en orden es 4\n",
      "El valor del nodo en orden es 5\n",
      "El valor del nodo en orden es 6\n",
      "El valor del nodo en orden es 8\n",
      "El valor del nodo en orden es 9\n"
     ]
    }
   ],
   "source": [
    "#Ejecutar in_order\n",
    "in_order(root)"
   ]
  },
  {
   "cell_type": "code",
   "execution_count": 4,
   "metadata": {},
   "outputs": [
    {
     "name": "stdout",
     "output_type": "stream",
     "text": [
      "El valor del nodo en pre orden es 6\n",
      "El valor del nodo en pre orden es 4\n",
      "El valor del nodo en pre orden es 1\n",
      "El valor del nodo en pre orden es 5\n",
      "El valor del nodo en pre orden es 8\n",
      "El valor del nodo en pre orden es 9\n"
     ]
    }
   ],
   "source": [
    "#Ejecutar pre_order\n",
    "pre_order(root)"
   ]
  },
  {
   "cell_type": "code",
   "execution_count": 5,
   "metadata": {},
   "outputs": [
    {
     "name": "stdout",
     "output_type": "stream",
     "text": [
      "El valor del nodo en post orden es 1\n",
      "El valor del nodo en post orden es 5\n",
      "El valor del nodo en post orden es 4\n",
      "El valor del nodo en post orden es 9\n",
      "El valor del nodo en post orden es 8\n",
      "El valor del nodo en post orden es 6\n"
     ]
    }
   ],
   "source": [
    "#Ejecutar post_order\n",
    "post_order(root)"
   ]
  },
  {
   "cell_type": "code",
   "execution_count": 6,
   "metadata": {},
   "outputs": [
    {
     "name": "stdout",
     "output_type": "stream",
     "text": [
      "El valor del nodo en orden es 1\n",
      "El valor del nodo en orden es 4\n",
      "El valor del nodo en orden es 5\n",
      "El valor del nodo en orden es 6\n",
      "El valor del nodo en orden es 7\n",
      "El valor del nodo en orden es 8\n",
      "El valor del nodo en orden es 9\n"
     ]
    }
   ],
   "source": [
    "#Insertar\n",
    "root = insertar(root,7)\n",
    "in_order(root)"
   ]
  },
  {
   "cell_type": "code",
   "execution_count": 7,
   "metadata": {},
   "outputs": [
    {
     "name": "stdout",
     "output_type": "stream",
     "text": [
      "El valor del nodo en orden es 1\n",
      "El valor del nodo en orden es 5\n",
      "El valor del nodo en orden es 6\n",
      "El valor del nodo en orden es 7\n",
      "El valor del nodo en orden es 8\n",
      "El valor del nodo en orden es 9\n"
     ]
    }
   ],
   "source": [
    "root = eliminar(root, 4)\n",
    "in_order(root)"
   ]
  },
  {
   "cell_type": "code",
   "execution_count": null,
   "metadata": {},
   "outputs": [],
   "source": []
  }
 ],
 "metadata": {
  "kernelspec": {
   "display_name": "Python 3",
   "language": "python",
   "name": "python3"
  },
  "language_info": {
   "codemirror_mode": {
    "name": "ipython",
    "version": 3
   },
   "file_extension": ".py",
   "mimetype": "text/x-python",
   "name": "python",
   "nbconvert_exporter": "python",
   "pygments_lexer": "ipython3",
   "version": "3.10.6"
  },
  "orig_nbformat": 4,
  "vscode": {
   "interpreter": {
    "hash": "916dbcbb3f70747c44a77c7bcd40155683ae19c65e1c03b4aa3499c5328201f1"
   }
  }
 },
 "nbformat": 4,
 "nbformat_minor": 2
}
