{
 "cells": [
  {
   "cell_type": "markdown",
   "metadata": {},
   "source": [
    "# Práctica Clase 5"
   ]
  },
  {
   "cell_type": "markdown",
   "metadata": {},
   "source": [
    "1) Implementar un juego, que consista en apilar números enteros del 1 al 20, de forma aleatoria, para lo cual debe usarse una estructura de Pila. \n",
    "Luego, el usuario debe elegir un número de veces en que se va a quitar elementos de la pila, los cuales, sumados entre sí, no deben superar el valor de 50.\n",
    "El usuario pierde si la suma supera ese valor. Si no lo supera, gana, pero su calificación será 10 menos el número elementos que falten quitar para todavía no superar 50.\n",
    "El programa debe informar si perdió, y si ganó, con qué calificación lo hizo.\n",
    "\n",
    "Consideraciones:<br>\n",
    "a. Se puede usar la función input() para obtener una entrada de teclado.<br>\n",
    "b. Se puede usar la el modulo random para obtener valores aleatorios."
   ]
  },
  {
   "cell_type": "code",
   "execution_count": 36,
   "metadata": {},
   "outputs": [],
   "source": [
    "#Paso 1 import numpy as np\n",
    "\n",
    "import numpy as np\n",
    "\n",
    "#paso 2 creamos nuestra clase \n",
    "class JuegoPila:\n",
    "    def __init__(self):\n",
    "        self.list = []\n",
    "\n",
    "    # paso 3. crear la pila\n",
    "    def crear_pila(self):\n",
    "        # Creamos una lista con números del 1 al 20\n",
    "        self.numeros = np.arange(1,21)\n",
    "        # Mezclamos la lista para obtener una pila aleatoria\n",
    "        np.random.shuffle(self.numeros)\n",
    "        # Convertimos la lista en una pila\n",
    "        self.numeros = list(self.numeros)\n",
    "        # Imprimimos la pila generada\n",
    "        print(\"la pila es: \", self.numeros)\n",
    "\n",
    "    # paso 4. Sumar los elementos seleccionados de la pila\n",
    "    def suma_elementos(self, elementos):\n",
    "        # Inicializamos variables\n",
    "        i = 1\n",
    "        self.suma = 0\n",
    "        # Mientras no hayamos sumado la cantidad de elementos solicitada\n",
    "        while i <= elementos:\n",
    "            # Obtenemos el último elemento de la pila y lo sumamos a la variable suma\n",
    "            self.suma += self.numeros.pop()\n",
    "            i+= 1\n",
    "        # Devolvemos el valor de la suma\n",
    "        return self.suma\n",
    "\n",
    "    # paso 5. Calcular el puntaje\n",
    "    def puntaje(self, resultado):\n",
    "        self.puntos = 10\n",
    "        self.sum_resultado = resultado\n",
    "\n",
    "        while self.sum_resultado <= 50:\n",
    "            self.sum_resultado = self.numeros.pop()\n",
    "            self.puntos -= 1\n",
    "        \n",
    "        if self.sum_resultado > 50:\n",
    "            return self.puntos + 1\n",
    "        else:\n",
    "            return self.puntos\n",
    "\n",
    "    # paso 6. Crear el Juego\n",
    "    def jugar(self):\n",
    "        # Pedimos al usuario que ingrese la cantidad de elementos que quiere quitar de la pila\n",
    "        print(\"Indique la cantidad de elementos que desea quitar de la pila: \")\n",
    "        self.cantidad_elementos = int(input(\"Ingrese cantidad: \"))\n",
    "\n",
    "        # Creamos la pila\n",
    "        self.crear_pila()\n",
    "\n",
    "        # Mostramos la cantidad de elementos que se van a quitar de la pila\n",
    "        print(\"se sacaran\", self.cantidad_elementos, \"elementos de la pila\")\n",
    "\n",
    "        # Calculamos la suma de los elementos seleccionados de la pila\n",
    "        self.resultado = self.suma_elementos(self.cantidad_elementos)\n",
    "        # Mostramos el resultado de la suma\n",
    "        print(\"la suma es: \", self.resultado)\n",
    "\n",
    "        if self.resultado > 50:\n",
    "            print(\"Perdiste!!! tus numeros sumaron\" , self.resultado)\n",
    "        else:\n",
    "            puntaje_final = self.puntaje(self.resultado)\n",
    "            print(\"Ganaste!!!! con una pila que suma: \", self.resultado, \"tu puntaje fue\", puntaje_final)\n"
   ]
  },
  {
   "cell_type": "code",
   "execution_count": 37,
   "metadata": {},
   "outputs": [
    {
     "name": "stdout",
     "output_type": "stream",
     "text": [
      "Indique la cantidad de elementos que desea quitar de la pila: \n",
      "la pila es:  [19, 10, 14, 6, 11, 17, 12, 2, 16, 13, 1, 4, 5, 20, 3, 15, 9, 7, 8, 18]\n",
      "se sacaran 5 elementos de la pila\n",
      "la suma es:  57\n",
      "Perdiste!!! tus numeros sumaron 57\n"
     ]
    }
   ],
   "source": [
    "juego = JuegoPila()\n",
    "juego.jugar()"
   ]
  },
  {
   "cell_type": "markdown",
   "metadata": {},
   "source": [
    "2) Implementar un juego donde constas de 2 jarras, de capacidad 5 y 3 litros respectivamente, y debes colocar 4 litros en la jarra de 5L.\n",
    "Las opciones posibles son:\n",
    "* Llenar la jarra de 3 litros\n",
    "* Llenar la jarra de 5 litros\n",
    "* Vaciar la jarra de 3 litros\n",
    "* Vaciar la jarra de 5 litros\n",
    "* Verter el contenido de la jarra de 3 litros en la de 5 litros\n",
    "* Verter el contenido de la jarra de 5 litros en la de 3 litros"
   ]
  },
  {
   "cell_type": "code",
   "execution_count": 56,
   "metadata": {},
   "outputs": [],
   "source": [
    "class JuegoJarra:\n",
    "    def __init__(self):\n",
    "        self.jarra3 = 0\n",
    "        self.jarra5 = 0\n",
    "    \n",
    "    def llenar(self, jarra):\n",
    "        if jarra == 3:\n",
    "            if self.jarra3 != 0:\n",
    "                print(\"La Jarra de 3lts está llena\")\n",
    "            else:\n",
    "                self.jarra3 = 3\n",
    "                print(\"La Jarra de 3lts fue llenada.\")\n",
    "        if jarra == 5:\n",
    "            if self.jarra5 != 0:\n",
    "                print(\"La Jarra de 5lts está llena\")\n",
    "            else:\n",
    "                self.jarra5 = 5\n",
    "                print(\"La Jarra de 5lts fue llenada.\")\n",
    "    \n",
    "    def vaciar(self, jarra):\n",
    "        if jarra == 3:\n",
    "            if self.jarra3 == 0:\n",
    "                print(\"La Jarra de 3lts está vacía.\")\n",
    "            else:\n",
    "                self.jarra3 = 0\n",
    "                print(\"La Jarra de 3lts fue vaciada.\")\n",
    "        if jarra == 5:\n",
    "            if self.jarra5 == 0:\n",
    "                print(\"La Jarra de 5lts está vacía.\")\n",
    "            else:\n",
    "                self.jarra5 = 0\n",
    "                print(\"La Jarra de 5lts fue vaciada.\")\n",
    "\n",
    "    def verter(self, jarra):\n",
    "        if jarra == 3:\n",
    "            if self.jarra5 == 0:\n",
    "                self.jarra5 += self.jarra3\n",
    "                self.jarra3 = 0\n",
    "            else:\n",
    "                while self.jarra3 != 0 and self.jarra5 < 5:\n",
    "                    self.jarra5 += 1\n",
    "                    self.jarra3 -= 1\n",
    "        \n",
    "        if jarra == 5:\n",
    "            if self.jarra3 == 0:\n",
    "                pass\n",
    "            else:\n",
    "                while self.jarra5 != 5 and self.jarra3 > 0:\n",
    "                    self.jarra3 -= 1\n",
    "                    self.jarra5 += 1\n",
    "        \n",
    "    def consulta(self):\n",
    "        print(\"La jarra de 3lts tiene \",self.jarra3,\"lts, y la jarra de 5lts tiene\",self.jarra5,\"lts.\")\n"
   ]
  },
  {
   "cell_type": "code",
   "execution_count": 61,
   "metadata": {},
   "outputs": [
    {
     "name": "stdout",
     "output_type": "stream",
     "text": [
      "La Jarra de 3lts fue llenada.\n",
      "La jarra de 3lts tiene  3 lts, y la jarra de 5lts tiene 0 lts.\n"
     ]
    }
   ],
   "source": [
    "jarras = JuegoJarra()\n",
    "jarras.llenar(3)\n",
    "jarras.consulta()"
   ]
  },
  {
   "cell_type": "code",
   "execution_count": 62,
   "metadata": {},
   "outputs": [
    {
     "name": "stdout",
     "output_type": "stream",
     "text": [
      "La Jarra de 3lts fue llenada.\n",
      "La jarra de 3lts tiene  3 lts, y la jarra de 5lts tiene 3 lts.\n"
     ]
    }
   ],
   "source": [
    "jarras.verter(5)\n",
    "jarras.llenar(3)\n",
    "jarras.consulta()"
   ]
  },
  {
   "cell_type": "code",
   "execution_count": 63,
   "metadata": {},
   "outputs": [
    {
     "name": "stdout",
     "output_type": "stream",
     "text": [
      "La Jarra de 3lts está llena\n",
      "La Jarra de 3lts está llena\n",
      "La Jarra de 5lts fue vaciada.\n",
      "La jarra de 3lts tiene  1 lts, y la jarra de 5lts tiene 0 lts.\n"
     ]
    }
   ],
   "source": [
    "jarras.verter(5)\n",
    "jarras.llenar(3)\n",
    "jarras.verter(5)\n",
    "jarras.llenar(3)\n",
    "jarras.vaciar(5)\n",
    "jarras.consulta()"
   ]
  },
  {
   "cell_type": "code",
   "execution_count": 64,
   "metadata": {},
   "outputs": [
    {
     "name": "stdout",
     "output_type": "stream",
     "text": [
      "La Jarra de 3lts está llena\n",
      "La jarra de 3lts tiene  0 lts, y la jarra de 5lts tiene 1 lts.\n"
     ]
    }
   ],
   "source": [
    "jarras.llenar(3)\n",
    "jarras.verter(5)\n",
    "jarras.consulta()"
   ]
  },
  {
   "cell_type": "code",
   "execution_count": 65,
   "metadata": {},
   "outputs": [
    {
     "name": "stdout",
     "output_type": "stream",
     "text": [
      "La Jarra de 3lts fue llenada.\n",
      "La jarra de 3lts tiene  0 lts, y la jarra de 5lts tiene 4 lts.\n"
     ]
    }
   ],
   "source": [
    "jarras.llenar(3)\n",
    "jarras.verter(5)\n",
    "jarras.consulta()"
   ]
  }
 ],
 "metadata": {
  "kernelspec": {
   "display_name": "Python 3",
   "language": "python",
   "name": "python3"
  },
  "language_info": {
   "codemirror_mode": {
    "name": "ipython",
    "version": 3
   },
   "file_extension": ".py",
   "mimetype": "text/x-python",
   "name": "python",
   "nbconvert_exporter": "python",
   "pygments_lexer": "ipython3",
   "version": "3.10.9"
  }
 },
 "nbformat": 4,
 "nbformat_minor": 4
}
