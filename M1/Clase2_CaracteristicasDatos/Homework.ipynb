{
 "cells": [
  {
   "cell_type": "markdown",
   "metadata": {},
   "source": [
    "# Práctica Clase 2"
   ]
  },
  {
   "cell_type": "markdown",
   "metadata": {},
   "source": [
    "1) Abrir el archivo \"Emisiones_CO2.csv\" y cargar sus datos en un diccionario."
   ]
  },
  {
   "cell_type": "code",
   "execution_count": 1,
   "metadata": {},
   "outputs": [],
   "source": [
    "#import os\n",
    "archivoEmisiones = open(\"Emisiones_CO2.csv\", \"r\", encoding = \"Windows 1252\") #read lectura"
   ]
  },
  {
   "cell_type": "code",
   "execution_count": 2,
   "metadata": {},
   "outputs": [],
   "source": [
    "dicc_emisiones = {  'cod_pais' : [],\n",
    "                    'nom_pais' : [],\n",
    "                    'region' : [],\n",
    "                    'anio' : [],\n",
    "                    'co2' : [],\n",
    "                    'co2_percapita' : []}"
   ]
  },
  {
   "cell_type": "code",
   "execution_count": 3,
   "metadata": {},
   "outputs": [],
   "source": [
    "next(archivoEmisiones)\n",
    "for registro in archivoEmisiones:\n",
    "    registro = registro.strip() #con este comando eliminó los espacios a al derecha e izquierda de cada categoria o columna\n",
    "    columnas = registro.split(\"|\") #con este comando le indico al for cual es el separador entre datos\n",
    "    dicc_emisiones[\"cod_pais\"].append(columnas[0])\n",
    "    dicc_emisiones[\"nom_pais\"].append(columnas[1])\n",
    "    dicc_emisiones[\"region\"].append(columnas[2])\n",
    "    dicc_emisiones[\"anio\"].append(columnas[3])\n",
    "    dicc_emisiones[\"co2\"].append(columnas[4])\n",
    "    dicc_emisiones[\"co2_percapita\"].append(columnas[5])\n"
   ]
  },
  {
   "attachments": {},
   "cell_type": "markdown",
   "metadata": {},
   "source": [
    "2.a) ¿Cuántas variables hay?"
   ]
  },
  {
   "cell_type": "code",
   "execution_count": 4,
   "metadata": {},
   "outputs": [
    {
     "name": "stdout",
     "output_type": "stream",
     "text": [
      "['cod_pais', 'nom_pais', 'region', 'anio', 'co2', 'co2_percapita']\n"
     ]
    }
   ],
   "source": [
    "#las variables son las mismas categorias o columnas del archivo\n",
    "\n",
    "llaves = dicc_emisiones.keys()\n",
    "llaves = list(llaves)\n",
    "print(llaves)\n",
    "\n"
   ]
  },
  {
   "cell_type": "code",
   "execution_count": 5,
   "metadata": {},
   "outputs": [
    {
     "name": "stdout",
     "output_type": "stream",
     "text": [
      "dict_keys(['cod_pais', 'nom_pais', 'region', 'anio', 'co2', 'co2_percapita'])\n"
     ]
    }
   ],
   "source": [
    "print(dicc_emisiones.keys())"
   ]
  },
  {
   "cell_type": "code",
   "execution_count": 6,
   "metadata": {},
   "outputs": [
    {
     "name": "stdout",
     "output_type": "stream",
     "text": [
      "Hay un total de 6 variables\n"
     ]
    }
   ],
   "source": [
    "print(f\"Hay un total de {len(dicc_emisiones.keys())} variables\")"
   ]
  },
  {
   "attachments": {},
   "cell_type": "markdown",
   "metadata": {},
   "source": [
    "2.b) ¿Qué tipos de datos usar para cada una?"
   ]
  },
  {
   "cell_type": "code",
   "execution_count": 7,
   "metadata": {},
   "outputs": [
    {
     "name": "stdout",
     "output_type": "stream",
     "text": [
      "En cada una deberíamos utilizar los siguientes tipos de datos\n",
      "La categoria 'cod_pais' usar un tipo de dato string <class 'str'> \n",
      "La categoria 'nom_pais' usar un tipo de dato string <class 'str'>\n",
      "La categoria 'region' usar un tipo de dato string <class 'str'>\n",
      "La categoria 'anio' usar un tipo de dato string <class 'str'>\n",
      "La categoria 'co2' usar un tipo de dato flotante <class 'float'>\n",
      "La categoria 'co2_percapita' usar un tipo de dato flotante <class 'float'>\n",
      "\n"
     ]
    }
   ],
   "source": [
    "print(\"En cada una deberíamos utilizar los siguientes tipos de datos\\n\"\n",
    "        \"La categoria 'cod_pais' usar un tipo de dato string <class 'str'> \\n\"\n",
    "        \"La categoria 'nom_pais' usar un tipo de dato string <class 'str'>\\n\"\n",
    "        \"La categoria 'region' usar un tipo de dato string <class 'str'>\\n\"\n",
    "        \"La categoria 'anio' usar un tipo de dato string <class 'str'>\\n\"\n",
    "        \"La categoria 'co2' usar un tipo de dato flotante <class 'float'>\\n\"\n",
    "        \"La categoria 'co2_percapita' usar un tipo de dato flotante <class 'float'>\\n\")"
   ]
  },
  {
   "cell_type": "code",
   "execution_count": 20,
   "metadata": {},
   "outputs": [
    {
     "name": "stdout",
     "output_type": "stream",
     "text": [
      "la categoria \"cod_pais\" tiene 1 tipos de datos los cuales son [<class 'str'>]\n",
      "la categoria \"nom_pais\" tiene 1 tipos de datos los cuales son [<class 'str'>]\n",
      "la categoria \"region\" tiene 1 tipos de datos los cuales son [<class 'str'>]\n",
      "la categoria \"co2\" tiene 2 tipos de datos los cuales son [<class 'NoneType'>, <class 'float'>]\n",
      "la categoria \"co2_percapita\" tiene 2 tipos de datos los cuales son [<class 'NoneType'>, <class 'float'>]\n"
     ]
    },
    {
     "data": {
      "text/plain": [
       "''"
      ]
     },
     "execution_count": 20,
     "metadata": {},
     "output_type": "execute_result"
    }
   ],
   "source": [
    "#función para determinar tipos de datos actuales en el diccionario y sus categorias\n",
    "def tiposDatos(dicc_emisiones, categoria):\n",
    "    lista_tipos = []\n",
    "\n",
    "    for i in dicc_emisiones[categoria]:\n",
    "        i = type(i)\n",
    "        if i not in lista_tipos:\n",
    "            lista_tipos.append(i)\n",
    "    return print(f'la categoria \"{categoria}\" tiene {len(lista_tipos)} tipos de datos los cuales son {lista_tipos}')\n",
    "\n",
    "tiposDatos(dicc_emisiones,\"cod_pais\")\n",
    "tiposDatos(dicc_emisiones,\"nom_pais\")\n",
    "tiposDatos(dicc_emisiones,\"region\")\n",
    "tiposDatos(dicc_emisiones,\"co2\")\n",
    "tiposDatos(dicc_emisiones,\"co2_percapita\")\n",
    "\"\""
   ]
  },
  {
   "attachments": {},
   "cell_type": "markdown",
   "metadata": {},
   "source": [
    "2.c) ¿Qué tipo de variables son?"
   ]
  },
  {
   "cell_type": "code",
   "execution_count": 9,
   "metadata": {},
   "outputs": [
    {
     "name": "stdout",
     "output_type": "stream",
     "text": [
      "La categoria 'cod_pais' es un tipo de variable categórica\n",
      "La categoria 'nom_pais' es un tipo de variable categória\n",
      "La categoria 'region' es un tipo de variable categórica\n",
      "La categoria 'anio' es un tipo de variable cualitativo ordinal \n",
      "La categoria 'co2' es un tipo de variable cuantitativo continuo\n",
      "La categoria 'co2_percapita' es un tipo de variable cuantivativo continuo \n",
      "\n"
     ]
    }
   ],
   "source": [
    "print(\"La categoria 'cod_pais' es un tipo de variable categórica\\n\"\n",
    "        \"La categoria 'nom_pais' es un tipo de variable categória\\n\"\n",
    "        \"La categoria 'region' es un tipo de variable categórica\\n\"\n",
    "        \"La categoria 'anio' es un tipo de variable cualitativo ordinal \\n\"\n",
    "        \"La categoria 'co2' es un tipo de variable cuantitativo continuo\\n\"\n",
    "        \"La categoria 'co2_percapita' es un tipo de variable cuantivativo continuo \\n\")"
   ]
  },
  {
   "attachments": {},
   "cell_type": "markdown",
   "metadata": {},
   "source": [
    "2.d) ¿Hay valores faltantes?"
   ]
  },
  {
   "cell_type": "code",
   "execution_count": 13,
   "metadata": {},
   "outputs": [
    {
     "name": "stdout",
     "output_type": "stream",
     "text": [
      "La cantidad de valores faltantes en la categoria \"cod_pais\" es de 0\n",
      "La cantidad de valores faltantes en la categoria \"nom_pais\" es de 0\n",
      "La cantidad de valores faltantes en la categoria \"region\" es de 0\n",
      "La cantidad de valores faltantes en la categoria \"co2\" es de 2095\n",
      "La cantidad de valores faltantes en la categoria \"co2_percapita\" es de 2098\n"
     ]
    }
   ],
   "source": [
    "\"\"\"Observamos que las categorias \"c02\" y \"co2_percativa\" no son en su 100% datos tipo float\n",
    " por lo que toca realizar una transformación de datos - ETL\n",
    " Para ello usamos la función enumerate que me realiza una iteración que da como resultado una dupla (contador[indice], elemento)\n",
    " de esta forma transformamos los puntos en nada y las comas en puntos, además de cambiar el tipo de dato a float.\"\"\"\n",
    "\n",
    "def normalizacion(dicc_emisiones):\n",
    "    for i, elemento in enumerate(dicc_emisiones):\n",
    "            if elemento:\n",
    "                elemento = elemento.replace(\".\",\"\")\n",
    "                elemento = elemento.replace(\",\",\".\")\n",
    "                elemento = float(elemento)\n",
    "            else:\n",
    "                 elemento = None\n",
    "            dicc_emisiones[i] = elemento\n",
    "    return dicc_emisiones\n",
    "\n",
    "def valoresFaltantes(dicc_emisiones, categoria):\n",
    "    cantidadNulos = 0 #inicializamos una variable que va a contar la cantidad de nulos\n",
    "    #utilizamos la función enumerate(iterate,start=0) que me realiza una iteración que da como resultado una dupla (contador[indice], elemento)\n",
    "    for i, elemento in enumerate(dicc_emisiones[categoria]):\n",
    "        if elemento == None: #condición que busca los registos vacios o nulos\n",
    "            cantidadNulos += 1 #va sumando la cantidad de 1 al contador cada vez que itera\n",
    "    return print(f'La cantidad de valores faltantes en la categoria \"{categoria}\" es de {cantidadNulos}')\n",
    "\n",
    "dicc_emisiones[\"co2\"] = normalizacion(dicc_emisiones[\"co2\"])\n",
    "dicc_emisiones[\"co2_percapita\"] = normalizacion(dicc_emisiones[\"co2_percapita\"])\n",
    "valoresFaltantes(dicc_emisiones,\"cod_pais\")\n",
    "valoresFaltantes(dicc_emisiones,\"nom_pais\")\n",
    "valoresFaltantes(dicc_emisiones,\"region\")\n",
    "valoresFaltantes(dicc_emisiones,\"co2\")\n",
    "valoresFaltantes(dicc_emisiones,\"co2_percapita\")"
   ]
  },
  {
   "attachments": {},
   "cell_type": "markdown",
   "metadata": {},
   "source": [
    "2.e) ¿Cuál es el total de emisiones de CO2 para 'América Latina y Caribe' en el año 2010?"
   ]
  },
  {
   "cell_type": "code",
   "execution_count": 32,
   "metadata": {},
   "outputs": [
    {
     "name": "stdout",
     "output_type": "stream",
     "text": [
      "El tola de emisiones de 'co2' para América Latina y Caribe en el año 2010 fue de 1691634.8 kt\n"
     ]
    }
   ],
   "source": [
    "\n",
    " \n",
    " #creamos una función que recorra el diccionario y la categoria deseada como una clase de mascara (filto)\n",
    "\n",
    "#Inicializamos las variables para la mascara\n",
    "anio = \"2010\"\n",
    "region = \"América Latina y Caribe\"\n",
    "contador = 0\n",
    "\n",
    "for i, elemento in enumerate(dicc_emisiones[\"region\"]):\n",
    "    if dicc_emisiones[\"anio\"][i] == anio and dicc_emisiones[\"region\"][i] == region and dicc_emisiones[\"co2\"][i] != None:\n",
    "        contador += dicc_emisiones[\"co2\"][i]\n",
    "\n",
    "print(\"El tola de emisiones de 'co2' para {} en el año {} fue de {} kt\".format(region,anio,round(contador,2)))\n",
    "\n"
   ]
  },
  {
   "cell_type": "markdown",
   "metadata": {},
   "source": [
    "2) a) ¿Cuántas variables hay? <br>\n",
    "b) ¿Qué tipos de datos usar para cada una? <br>\n",
    "c) ¿Qué tipo de variables son? <br>\n",
    "d) ¿Hay valores faltantes? <br>\n",
    "e) ¿Cuál es el total de emisiones de CO2 para 'América Latina y Caribe' en el año 2010?"
   ]
  }
 ],
 "metadata": {
  "interpreter": {
   "hash": "c85384e4cb51c8b72350f3a8712cc8351fdc3955e32a27f9b60c6242ab125f01"
  },
  "kernelspec": {
   "display_name": "Python 3.9.7 ('henry')",
   "language": "python",
   "name": "python3"
  },
  "language_info": {
   "codemirror_mode": {
    "name": "ipython",
    "version": 3
   },
   "file_extension": ".py",
   "mimetype": "text/x-python",
   "name": "python",
   "nbconvert_exporter": "python",
   "pygments_lexer": "ipython3",
   "version": "3.10.6"
  },
  "orig_nbformat": 4
 },
 "nbformat": 4,
 "nbformat_minor": 2
}
