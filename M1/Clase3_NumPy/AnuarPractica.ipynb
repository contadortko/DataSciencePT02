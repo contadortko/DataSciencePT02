{
 "cells": [
  {
   "attachments": {},
   "cell_type": "markdown",
   "metadata": {},
   "source": [
    "Operaciones vectoriales con arrays o arreglos\n",
    "\n",
    "    *Numpy is a python library, is used for working with arrays and is short for numerical python\n",
    "    **Numpy is up to 50x faster than traditional python lists.\n",
    "    ***The array object in Numpy is called ndarray.\n",
    "    ****Numpy is written in C or C++ and partially written in Python."
   ]
  },
  {
   "attachments": {},
   "cell_type": "markdown",
   "metadata": {},
   "source": [
    "Pasos previos. Importar numpy as pd"
   ]
  },
  {
   "cell_type": "code",
   "execution_count": 2,
   "metadata": {},
   "outputs": [],
   "source": [
    "import numpy as np #El alías np es el de uso mas extenso y genealizado en la comunidad de DS"
   ]
  },
  {
   "attachments": {},
   "cell_type": "markdown",
   "metadata": {},
   "source": [
    "Opcional. Verificar la versión de Numpy."
   ]
  },
  {
   "cell_type": "code",
   "execution_count": 6,
   "metadata": {},
   "outputs": [
    {
     "name": "stdout",
     "output_type": "stream",
     "text": [
      "la versión de Numpy utilizadas es la:  1.21.5\n"
     ]
    }
   ],
   "source": [
    "print(\"la versión de Numpy utilizadas es la: \",np.__version__)"
   ]
  },
  {
   "attachments": {},
   "cell_type": "markdown",
   "metadata": {},
   "source": [
    "1. Create a NunmPy ndarray object.\n",
    "    array() function"
   ]
  },
  {
   "cell_type": "code",
   "execution_count": 9,
   "metadata": {},
   "outputs": [
    {
     "name": "stdout",
     "output_type": "stream",
     "text": [
      "[1 2 3 4 5]\n",
      "<class 'numpy.ndarray'>\n"
     ]
    }
   ],
   "source": [
    "#Crear un array desde una lista\n",
    "arreglo = np.array([1,2,3,4,5])\n",
    "print(arreglo)\n",
    "print(type(arreglo))"
   ]
  },
  {
   "cell_type": "code",
   "execution_count": 10,
   "metadata": {},
   "outputs": [
    {
     "name": "stdout",
     "output_type": "stream",
     "text": [
      "[6 7 8 9 0]\n",
      "<class 'numpy.ndarray'>\n"
     ]
    }
   ],
   "source": [
    "#Crear un array desde una tupla\n",
    "\n",
    "tupla = np.array((6,7,8,9,0))\n",
    "print(tupla)\n",
    "print(type(tupla))"
   ]
  },
  {
   "attachments": {},
   "cell_type": "markdown",
   "metadata": {},
   "source": [
    "Dimension in arrays.\n",
    "\n",
    "    *A dimension in arrays is a level of array depth (nested arrays:arrays with arrays in theirs elements)."
   ]
  },
  {
   "attachments": {},
   "cell_type": "markdown",
   "metadata": {},
   "source": [
    "0-D or Scalar\n",
    "\n",
    "*0-D Arrays or Scalars, son los arrays donde la solo hay un elemento, es decir, la posición 0"
   ]
  },
  {
   "cell_type": "code",
   "execution_count": 19,
   "metadata": {},
   "outputs": [
    {
     "name": "stdout",
     "output_type": "stream",
     "text": [
      "42\n"
     ]
    }
   ],
   "source": [
    "arreglo_D0 = np.array(42)\n",
    "print(arreglo_D0)"
   ]
  },
  {
   "attachments": {},
   "cell_type": "markdown",
   "metadata": {},
   "source": [
    "1-D Arrays or Vector\n",
    "\n",
    "*Es una array donde todos sus elementos estan todos en la fila o columna 0\n",
    "\n"
   ]
  },
  {
   "cell_type": "code",
   "execution_count": 12,
   "metadata": {},
   "outputs": [
    {
     "name": "stdout",
     "output_type": "stream",
     "text": [
      "[1 2 3 4]\n"
     ]
    }
   ],
   "source": [
    "arreglo_D1 = np.array([1,2,3,4])\n",
    "print(arreglo_D1)"
   ]
  },
  {
   "attachments": {},
   "cell_type": "markdown",
   "metadata": {},
   "source": [
    "2-D Arrays or bidimensional array\n",
    "\n",
    "*Es una array \n",
    "q que contiene mas de 1D arrays como elementos, se conoce también como matriz, normalmente suele tener forma de rectangulo"
   ]
  },
  {
   "cell_type": "code",
   "execution_count": 14,
   "metadata": {},
   "outputs": [
    {
     "name": "stdout",
     "output_type": "stream",
     "text": [
      "[[1 2 3]\n",
      " [4 5 6]]\n"
     ]
    }
   ],
   "source": [
    "arreglo_D2 = np.array([[1,2,3],[4,5,6]])\n",
    "print(arreglo_D2)"
   ]
  },
  {
   "attachments": {},
   "cell_type": "markdown",
   "metadata": {},
   "source": [
    "3-D Arrays or Tensor\n",
    "\n",
    "    *An array that has 2-D arrays (matrices) as its elements."
   ]
  },
  {
   "cell_type": "code",
   "execution_count": 17,
   "metadata": {},
   "outputs": [
    {
     "name": "stdout",
     "output_type": "stream",
     "text": [
      "[[[1 2 3]\n",
      "  [4 5 6]]\n",
      "\n",
      " [[1 2 3]\n",
      "  [4 5 6]]]\n"
     ]
    }
   ],
   "source": [
    "arreglo_D3 = np.array([arreglo_D2,arreglo_D2])\n",
    "print(arreglo_D3)"
   ]
  },
  {
   "attachments": {},
   "cell_type": "markdown",
   "metadata": {},
   "source": [
    "Check numbers of dimensions?\n",
    "\n",
    "    *ndim attribute returns the number of dimensions"
   ]
  },
  {
   "cell_type": "code",
   "execution_count": 24,
   "metadata": {},
   "outputs": [
    {
     "name": "stdout",
     "output_type": "stream",
     "text": [
      "El array arreglo_D0 tiene un total de 0 dimensiones\n",
      "El array arreglo_D1 tiene un total de 1 dimensiones\n",
      "El array arreglo_D2 tiene un total de 2 dimensiones\n",
      "El array arreglo_D3 tiene un total de 3 dimensiones\n"
     ]
    }
   ],
   "source": [
    "print(\"El array arreglo_D0 tiene un total de {} dimensiones\".format(arreglo_D0.ndim))\n",
    "print(\"El array arreglo_D1 tiene un total de {} dimensiones\".format(arreglo_D1.ndim))\n",
    "print(\"El array arreglo_D2 tiene un total de {} dimensiones\".format(arreglo_D2.ndim))\n",
    "print(\"El array arreglo_D3 tiene un total de {} dimensiones\".format(arreglo_D3.ndim))"
   ]
  },
  {
   "attachments": {},
   "cell_type": "markdown",
   "metadata": {},
   "source": [
    "Higher dimensional Arrays\n",
    "\n",
    "    *An array can have any number of dimensions.\n",
    "    when the array is created, you can define the number of dimensions using the ndmin argument."
   ]
  },
  {
   "cell_type": "code",
   "execution_count": 27,
   "metadata": {},
   "outputs": [
    {
     "name": "stdout",
     "output_type": "stream",
     "text": [
      "[[[[[1 2 3 4 5]]]]]\n",
      "El array arreglo_D5 tien un total de 5 dimensiones\n"
     ]
    }
   ],
   "source": [
    "arreglo_D5 = np.array([1,2,3,4,5], ndmin = 5)\n",
    "print(arreglo_D5)\n",
    "print(\"El array arreglo_D5 tien un total de {} dimensiones\".format(arreglo_D5.ndim))"
   ]
  },
  {
   "attachments": {},
   "cell_type": "markdown",
   "metadata": {},
   "source": [
    "Data Types in NumPy format\n",
    "\n",
    "    i = integer\n",
    "    b = boolean\n",
    "    u = unsigned integer\n",
    "    f = float\n",
    "    c = complex float\n",
    "    m = timedelta\n",
    "    M = datetime\n",
    "    O = object\n",
    "    S = string\n"
   ]
  },
  {
   "attachments": {},
   "cell_type": "markdown",
   "metadata": {},
   "source": [
    "NumPy Array Indexing\n",
    "\n",
    "    Examples:\n",
    "            arr = np.array([1, 2, 3, 4])\n",
    "            Get the first element from the previous array.\n",
    "            Get the second element from the previous array.\n",
    "            Get third and fourth elements from the previous array and add them.\n"
   ]
  },
  {
   "cell_type": "code",
   "execution_count": 33,
   "metadata": {},
   "outputs": [
    {
     "name": "stdout",
     "output_type": "stream",
     "text": [
      "El primer elemento del arregloIndexado es 1.\n",
      "El segundo elemento del arregloIndexado es 2.\n",
      "El tercer y cuarto elemento de arregloIndexado son 3 y 4, su adición da como resultado 7.\n"
     ]
    }
   ],
   "source": [
    "arregloIndexado = np.array([1,2,3,4])\n",
    "\n",
    "print(\"El primer elemento del arregloIndexado es {}.\".format(arregloIndexado[0]))\n",
    "print(\"El segundo elemento del arregloIndexado es {}.\".format(arregloIndexado[1]))\n",
    "print(\"El tercer y cuarto elemento de arregloIndexado son {} y {}, su adición da como resultado {}.\".format(arregloIndexado[2],arregloIndexado[3],arregloIndexado[2]+arregloIndexado[3]))"
   ]
  },
  {
   "attachments": {},
   "cell_type": "markdown",
   "metadata": {},
   "source": [
    "Acces 2-D Arrays\n",
    "\n",
    "    We can use a comma separated integers representing the dimensions and the index of the element.\n",
    "\n",
    "    Example:\n",
    "            arregloEjemplo2 = np.array([[1,2,3,4,5], [6,7,8,9,10]])\n",
    "            Access the element on the firts row, second column\n",
    "            Access the element on the 2nd row, 5th column."
   ]
  },
  {
   "cell_type": "code",
   "execution_count": 37,
   "metadata": {},
   "outputs": [
    {
     "name": "stdout",
     "output_type": "stream",
     "text": [
      "[[ 1  2  3  4  5]\n",
      " [ 6  7  8  9 10]]\n",
      "El elemento ubicado en la fila (dimensión) 1, columa 2 es 2.\n",
      "El elemento ubicado en la fila (dimensión) 2, columa 5 es 10.\n"
     ]
    }
   ],
   "source": [
    "arregloEjemplo2 = np.array([[1,2,3,4,5],[6,7,8,9,10]])\n",
    "\n",
    "print(arregloEjemplo2)\n",
    "\n",
    "print(\"El elemento ubicado en la fila (dimensión) 1, columa 2 es {}.\".format(arregloEjemplo2[0,1]))\n",
    "print(\"El elemento ubicado en la fila (dimensión) 2, columa 5 es {}.\".format(arregloEjemplo2[1,4]))"
   ]
  },
  {
   "attachments": {},
   "cell_type": "markdown",
   "metadata": {},
   "source": [
    "Access 3-D Arrays\n",
    "\n",
    "We can use a comma separated integers representing the dimensions and the index of the element.\n",
    "\n",
    "    Example:\n",
    "            arregloEjemplo3 = np.array([[[1,2,3],[4,5,6]],[[7,8,9],[10,11,12]]])\n",
    "            Access the third element of the second array of the first array"
   ]
  },
  {
   "cell_type": "code",
   "execution_count": 41,
   "metadata": {},
   "outputs": [
    {
     "name": "stdout",
     "output_type": "stream",
     "text": [
      "[[[ 1  2  3]\n",
      "  [ 4  5  6]]\n",
      "\n",
      " [[ 7  8  9]\n",
      "  [10 11 12]]]\n",
      "El 3er elemento contenido en el segundo array que a la vez se encuentra en el primer array es 6.\n"
     ]
    }
   ],
   "source": [
    "arregloEjemplo3 = np.array([[[1,2,3],[4,5,6]],[[7,8,9],[10,11,12]]])\n",
    "\n",
    "print(arregloEjemplo3)\n",
    "print(\"El 3er elemento contenido en el segundo array que a la vez se encuentra en el primer array es {}.\".format(arregloEjemplo3[0,1,2]))"
   ]
  },
  {
   "attachments": {},
   "cell_type": "markdown",
   "metadata": {},
   "source": [
    "Explicación:\n",
    "\n",
    "        la matriz tiene 2 arrays de 2D siendo el primer array [[1,2,3],[4,5,6]] y el segundo array [[7,8,9],[10,11,12]]\n",
    "        El segundo array que se encuentra dentro del 1er array sería [4,5,6]\n",
    "        El tercer elemento del segundo array sería 6"
   ]
  },
  {
   "attachments": {},
   "cell_type": "markdown",
   "metadata": {},
   "source": [
    "Negative Indexing\n",
    "\n",
    "    Acceder a un array desde su elemento final"
   ]
  },
  {
   "cell_type": "code",
   "execution_count": 45,
   "metadata": {},
   "outputs": [
    {
     "name": "stdout",
     "output_type": "stream",
     "text": [
      "[[ 1  2  3  4  5]\n",
      " [ 6  7  8  9 10]]\n",
      "The last element of the 2nd dim is 10.\n"
     ]
    }
   ],
   "source": [
    "\"\"\"Print the last element of the 2nd dimension\"\"\"\n",
    "arregloNegativo = np.array([[1,2,3,4,5],[6,7,8,9,10]])\n",
    "print(arregloNegativo)\n",
    "print(\"The last element of the 2nd dim is {}.\".format(arregloNegativo[1,-1]))"
   ]
  },
  {
   "attachments": {},
   "cell_type": "markdown",
   "metadata": {},
   "source": []
  },
  {
   "cell_type": "markdown",
   "metadata": {},
   "source": []
  },
  {
   "cell_type": "markdown",
   "metadata": {},
   "source": []
  },
  {
   "cell_type": "markdown",
   "metadata": {},
   "source": []
  },
  {
   "cell_type": "markdown",
   "metadata": {},
   "source": []
  },
  {
   "cell_type": "markdown",
   "metadata": {},
   "source": []
  },
  {
   "cell_type": "markdown",
   "metadata": {},
   "source": []
  },
  {
   "cell_type": "markdown",
   "metadata": {},
   "source": []
  },
  {
   "cell_type": "markdown",
   "metadata": {},
   "source": []
  },
  {
   "cell_type": "markdown",
   "metadata": {},
   "source": []
  },
  {
   "cell_type": "markdown",
   "metadata": {},
   "source": []
  },
  {
   "cell_type": "markdown",
   "metadata": {},
   "source": []
  },
  {
   "attachments": {},
   "cell_type": "markdown",
   "metadata": {},
   "source": [
    "paso 1. Importar numpy as pd"
   ]
  }
 ],
 "metadata": {
  "kernelspec": {
   "display_name": "Python 3",
   "language": "python",
   "name": "python3"
  },
  "language_info": {
   "codemirror_mode": {
    "name": "ipython",
    "version": 3
   },
   "file_extension": ".py",
   "mimetype": "text/x-python",
   "name": "python",
   "nbconvert_exporter": "python",
   "pygments_lexer": "ipython3",
   "version": "3.10.6"
  },
  "orig_nbformat": 4
 },
 "nbformat": 4,
 "nbformat_minor": 2
}
